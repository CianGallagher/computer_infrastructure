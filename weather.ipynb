{
 "cells": [
  {
   "cell_type": "markdown",
   "metadata": {},
   "source": [
    "# Computer Infrastructure Tasks\n",
    "\n",
    "## Task 1: Create Directory Structure\n",
    "I used the `mkdir` command to create the required directories, followed by `cd` and `ls` to navigate and confirm the structure. This task was straightforward as I was already familiar with these commands.\n",
    "\n",
    "**Reference:** [Linux `mkdir` Command](https://linuxize.com/post/how-to-create-directories-in-linux-using-the-mkdir-command/)\n",
    "\n",
    "## Task 2: Timestamps\n",
    "For this task, I navigated to the `data/timestamps` directory and used the `date >> now.txt` command to append the current date and time to the file `now.txt`. Since I was not familiar with the `date` command, I followed instructions from Ian’s GitHub page. The `more` command was used to verify the content of `now.txt`. While I attempted to automate the process of appending the date ten times, I couldn't find a method to do so efficiently.\n",
    "\n",
    "**Reference:** [Linux `date` Command](https://linuxize.com/post/linux-date-command/)\n",
    "\n",
    "## Task 3: Formatting Timestamps\n",
    "Initially, I struggled with the correct formatting syntax for the `date` command after reading the `man date` page. After trial and error, I corrected the overuse of interpreted sequences and successfully used `date +\"%Y%m%d_%H%M%S\" >> formatted.txt` to format the timestamps and append them to `formatted.txt`.\n",
    "\n",
    "**Reference:** [Linux `date` Format Options](https://www.cyberciti.biz/faq/linux-unix-formatting-dates-for-display/)\n",
    "\n",
    "## Task 4: Create Timestamped Files\n",
    "In this task, I encountered errors with command substitution and the creation of directories instead of files. After research, I discovered the `$()` syntax, which allowed me to embed the `date` command into the `touch` command. The correct command, `touch $(date +\"%Y%m%d_%H%M%S\").txt`, created a timestamped file successfully.\n",
    "\n",
    "**Reference:** [Linux `touch` Command](https://linuxize.com/post/linux-touch-command/)\n",
    "\n",
    "## Task 5: Download Today’s Weather Data\n",
    "I initially encountered challenges with the `wget` command, which is not included in Windows by default. Instead of installing it locally, I used Codespaces, where `wget` is pre-installed. After mistakenly using the wrong URL, I corrected the command to `wget -O weather.json https://prodapi.metweb.ie/observations/athenry/today`, successfully downloading the weather data in JSON format.\n",
    "\n",
    "**Reference:** [Linux `wget` Command](https://www.gnu.org/software/wget/manual/wget.html)\n",
    "\n",
    "## Task 6: Timestamp the Data\n",
    "This task required me to combine `wget` with the `$()` operator from Task 4. I used `wget -O $(date +\"%Y%m%d_%H%M%S\").json https://prodapi.metweb.ie/observations/athenry/today`, successfully saving the weather data with a timestamped filename.\n",
    "\n",
    "**Reference:** [Linux `wget` with Filename Options](https://www.tecmint.com/download-multiple-files-with-wget-in-linux/)\n",
    "\n",
    "## Task 7: Write the Script\n",
    "I was unfamiliar with shell scripting, so I consulted resources from freeCodeCamp and CloudXLab. I learned the importance of including `#!/usr/bin/bash` at the start of the script. The script correctly pulled and timestamped the JSON file but initially saved it in the wrong directory. I attempted to use the `-P` option to specify the target directory (`data/weather`), but it didn’t work as expected. Further investigation is needed to resolve this.\n",
    "\n",
    "**Reference:** [FreeCodeCamp Bash Scripting Guide](https://www.freecodecamp.org/news/shell-scripting-crash-course-how-to-write-bash-scripts-in-linux/)\n"
   ]
  }
 ],
 "metadata": {
  "language_info": {
   "name": "python"
  }
 },
 "nbformat": 4,
 "nbformat_minor": 2
}
