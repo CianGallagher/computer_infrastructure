{
 "cells": [
  {
   "cell_type": "markdown",
   "metadata": {},
   "source": [
    "# Computer Infrastructure Tasks\n",
    "\n",
    "## Task 1: Create Directory Structure\n",
    "I used the `mkdir` command to create the required directories, followed by `cd` and `ls` to navigate and confirm the structure. This task was straightforward as I was already familiar with these commands.\n",
    "\n",
    "**Reference:** [Linux `mkdir` Command](https://linuxize.com/post/how-to-create-directories-in-linux-using-the-mkdir-command/)\n",
    "\n",
    "## Task 2: Timestamps\n",
    "For this task, I navigated to the `data/timestamps` directory and used the `date >> now.txt` command to append the current date and time to the file `now.txt`. Since I was not familiar with the `date` command, I followed instructions from Ian’s GitHub page. The `more` command was used to verify the content of `now.txt`. While I attempted to automate the process of appending the date ten times, I couldn't find a method to do so efficiently.\n",
    "\n",
    "**Reference:** [Linux `date` Command](https://linuxize.com/post/linux-date-command/)\n",
    "\n",
    "## Task 3: Formatting Timestamps\n",
    "Initially, I struggled with the correct formatting syntax for the `date` command after reading the `man date` page. After trial and error, I corrected the overuse of interpreted sequences and successfully used `date +\"%Y%m%d_%H%M%S\" >> formatted.txt` to format the timestamps and append them to `formatted.txt`.\n",
    "\n",
    "**Reference:** [Linux `date` Format Options](https://www.cyberciti.biz/faq/linux-unix-formatting-dates-for-display/)\n",
    "\n",
    "## Task 4: Create Timestamped Files\n",
    "In this task, I encountered errors with command substitution and the creation of directories instead of files. After research, I discovered the `$()` syntax, which allowed me to embed the `date` command into the `touch` command. The correct command, `touch $(date +\"%Y%m%d_%H%M%S\").txt`, created a timestamped file successfully.\n",
    "\n",
    "**Reference:** [Command Substitution using `$()`](https://tldp.org/LDP/abs/html/commandsub.html)\n",
    "\n",
    "## Task 5: Download Today’s Weather Data\n",
    "I initially encountered challenges with the `wget` command, which is not included in Windows by default. Instead of installing it locally, I used Codespaces, where `wget` is pre-installed. After mistakenly using the wrong URL, I corrected the command to `wget -O weather.json https://prodapi.metweb.ie/observations/athenry/today`, successfully downloading the weather data in JSON format.\n",
    "\n",
    "**Reference:** [Linux `wget` Command](https://www.gnu.org/software/wget/manual/wget.html)\n",
    "\n",
    "## Task 6: Timestamp the Data\n",
    "This task required me to combine `wget` with the `$()` operator from Task 4. I used `wget -O $(date +\"%Y%m%d_%H%M%S\").json https://prodapi.metweb.ie/observations/athenry/today`, successfully saving the weather data with a timestamped filename.\n",
    "\n",
    "**Reference:** [Linux `wget` with Filename Options](https://www.tecmint.com/download-multiple-files-with-wget-in-linux/)\n",
    "\n",
    "## Task 7: Write the Script\n",
    "Since I was completely unfamiliar with shell scripting, I first referred to resources such as [FreeCodeCamp](https://www.freecodecamp.org/news/shell-scripting-crash-course-how-to-write-bash-scripts-in-linux/) and [CloudXLab](https://cloudxlab.com/assessment/displayslide/63/writing-first-shell-script) to learn the basics. \n",
    "\n",
    "I followed the freeCodeCamp tutorial to get started. The first thing I did was use the `which bash` command to locate my bash shell path, which returned `/usr/bin/bash`. I added this as the first line of my script to ensure it would run correctly. This shell might differ if running the script outside of Codespaces, such as on Windows.\n",
    "\n",
    "Initially, my script didn’t work because I hadn’t correctly initialized the shell. I learned that the `#!/usr/bin/bash` line, known as a shebang, is crucial as it specifies which shell program should interpret the rest of the file. [StackOverflow](https://stackoverflow.com/questions/42971986/what-does-operator-mean-in-linux) was helpful in clarifying this.\n",
    "\n",
    "I then added the `wget -O $(date +\"%Y%m%d_%H%M%S\").json https://prodapi.metweb.ie/observations/athenry/today` command from the previous task into my script. This successfully pulled the weather data and named the file using a timestamp, but the file was saved in the root directory instead of `data/weather`.\n",
    "\n",
    "To fix this, I researched the use of `-P` in `wget`, which allows specifying a directory to save the file. I tried modifying the command to `wget -O $(date +\"%Y%m%d_%H%M%S\").json -P /workspaces/computer_infrastructure/data/weather`, but the file was still saved in the root directory. I will investigate this issue further tomorrow.\n",
    "\n",
    "For installing `wget` on Windows, I found the [GnuWin32 project](https://sourceforge.net/projects/gnuwin32/files/) to be a good resource for obtaining the necessary tools.\n",
    "\n",
    "**References:**\n",
    "- [FreeCodeCamp Bash Scripting Guide](https://www.freecodecamp.org/news/shell-scripting-crash-course-how-to-write-bash-scripts-in-linux/)\n",
    "- [How to Set the Destination Folder for Wget](https://unix.stackexchange.com/questions/307322/how-to-set-the-destination-folder-for-wget)\n",
    "- [Shebang Explanation](https://stackoverflow.com/questions/42971986/what-does-operator-mean-in-linux)\n",
    "\n"
   ]
  }
 ],
 "metadata": {
  "language_info": {
   "name": "python"
  }
 },
 "nbformat": 4,
 "nbformat_minor": 2
}
